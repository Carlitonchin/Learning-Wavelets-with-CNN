{
 "cells": [
  {
   "cell_type": "code",
   "execution_count": 1,
   "id": "91a0f9ed",
   "metadata": {},
   "outputs": [],
   "source": [
    "import pywt\n",
    "import numpy as np\n",
    "from sklearn.metrics import mean_squared_error\n",
    "import math\n",
    "import matplotlib.pyplot as plt"
   ]
  },
  {
   "cell_type": "code",
   "execution_count": 2,
   "id": "22d8fbf1",
   "metadata": {},
   "outputs": [],
   "source": [
    "class dwt:\n",
    "    def __init__(self, filter_size, h = None, g = None):\n",
    "        if h is None:\n",
    "            self.h = np.random.normal(1,2,filter_size)\n",
    "        else:\n",
    "            self.h = h\n",
    "        \n",
    "        if g is None:\n",
    "            self.g = np.random.normal(1,2,filter_size)\n",
    "        else:\n",
    "            self.g = g\n",
    "        \n",
    "    def compute(self, input_):\n",
    "        filter_bank = [self.h, self.g, np.flip(self.h), np.flip(self.g)]\n",
    "        my_wavelet = pywt.Wavelet(name=\"my_wavelet\", filter_bank=filter_bank)\n",
    "        return pywt.dwt(input_, wavelet=my_wavelet)\n",
    "    \n",
    "    def inverse(self):\n",
    "        return idwt(self)\n",
    "    \n",
    "    def update_weigths(self, hg, gg, lr = 0.001):\n",
    "        self.h = self.h - lr*hg\n",
    "        self.g = self.g - lr*gg"
   ]
  },
  {
   "cell_type": "code",
   "execution_count": 3,
   "id": "33bc6976",
   "metadata": {},
   "outputs": [],
   "source": [
    "class idwt:\n",
    "    def __init__(self, dwt):\n",
    "        self.h = dwt.h\n",
    "        self.g = dwt.g\n",
    "    \n",
    "    def compute(self, input_):\n",
    "        ca,cd = input_\n",
    "        filter_bank = [self.h, self.g, np.flip(self.h), np.flip(self.g)]\n",
    "        my_wavelet = pywt.Wavelet(name=\"my_wavelet\", filter_bank=filter_bank)\n",
    "        return pywt.idwt(ca,cd, wavelet=my_wavelet)"
   ]
  },
  {
   "cell_type": "code",
   "execution_count": 4,
   "id": "34c2d2dc",
   "metadata": {},
   "outputs": [],
   "source": [
    "def loss_function(h, g, x, x_, W):\n",
    "    l1 = 0.5\n",
    "    l2 = 0.5\n",
    "    s1 = mean_squared_error(x, x_)\n",
    "    s2 = np.sum(np.abs(W))\n",
    "    s3 = lhg(h,g)\n",
    "    return s1 + l1*s2 + l1*s3\n",
    "    \n",
    "def lhg(h, g):\n",
    "    s1 = (np.sum(h**2) - 1)**2\n",
    "    s2 = (np.sum(h) - math.sqrt(2))**2\n",
    "    s3 = np.sum(g)**2\n",
    "    return s1 + s2 + s3"
   ]
  },
  {
   "cell_type": "code",
   "execution_count": 5,
   "id": "70e22b9e",
   "metadata": {},
   "outputs": [],
   "source": [
    "def compute_gradient_h(h, g, x, loss_function, diff = 0.001):\n",
    "    length = len(h)\n",
    "    gradient = np.zeros(length)\n",
    "    mask = np.zeros(length)\n",
    "    for i in range(length):\n",
    "        mask[i] = diff\n",
    "        h_plus = h + mask\n",
    "        h_minus = h - mask\n",
    "        \n",
    "        dwtp = dwt(1, h_plus, g)\n",
    "        idwtp = dwtp.inverse()\n",
    "        \n",
    "        dwtm = dwt(1, h_minus, g)\n",
    "        idwtm = dwtm.inverse()\n",
    "        \n",
    "        Wp = dwtp.compute(x)\n",
    "        x_p = idwtp.compute(Wp)\n",
    "        \n",
    "        Wm = dwtm.compute(x)\n",
    "        x_m = idwtm.compute(Wm)\n",
    "        \n",
    "        lossp = loss_function(h_plus, g, x, x_p, Wp)\n",
    "        lossm = loss_function(h_minus, g, x, x_m, Wm)\n",
    "        gradient[i] = (lossp - lossm)/diff\n",
    "        \n",
    "    return gradient\n",
    "\n",
    "def compute_gradient_g(h, g, x, loss_function, diff = 0.001):\n",
    "    length = len(g)\n",
    "    gradient = np.zeros(length)\n",
    "    mask = np.zeros(length)\n",
    "    for i in range(length):\n",
    "        mask[i] = diff\n",
    "        g_plus = g + mask\n",
    "        g_minus = g - mask\n",
    "        \n",
    "        dwtp = dwt(1, h, g_plus)\n",
    "        idwtp = dwtp.inverse()\n",
    "        \n",
    "        dwtm = dwt(1, h, g_minus)\n",
    "        idwtm = dwtm.inverse()\n",
    "        \n",
    "        Wp = dwtp.compute(x)\n",
    "        x_p = idwtp.compute(Wp)\n",
    "        \n",
    "        Wm = dwtm.compute(x)\n",
    "        x_m = idwtm.compute(Wm)\n",
    "        \n",
    "        lossp = loss_function(h, g_plus, x, x_p, Wp)\n",
    "        lossm = loss_function(h, g_minus, x, x_m, Wm)\n",
    "        gradient[i] = (lossp - lossm)/diff\n",
    "        \n",
    "    return gradient\n",
    "\n",
    "def compute_gradient(h, g, x, loss_function, diff = 0.001):\n",
    "    hg = compute_gradient_h(h, g, x, loss_function, diff)\n",
    "    gg = compute_gradient_g(h, g, x, loss_function, diff)\n",
    "    return (hg, gg)\n",
    "    \n",
    "    \n",
    "    "
   ]
  },
  {
   "cell_type": "code",
   "execution_count": 6,
   "id": "57a17a80",
   "metadata": {},
   "outputs": [],
   "source": [
    "class Model:\n",
    "    def __init__(self,filter_size = 2**5):\n",
    "        self.my_dwt = dwt(filter_size)\n",
    "        self.my_idwt = self.my_dwt.inverse()\n",
    "        self.losses = []\n",
    "        \n",
    "    def fit(self, x, epochs = 100, learning_rate = 0.001, verbose = True, good_error = None, diff = 0.000001):\n",
    "        min_loss = math.inf\n",
    "        best_h = self.my_dwt.h\n",
    "        best_g = self.my_idwt.g\n",
    "        for i in range(epochs):\n",
    "            W = self.my_dwt.compute(x)\n",
    "            x_ = self.my_idwt.compute(W)\n",
    "            loss = mean_squared_error(x,x_)#loss_function(self.my_dwt.h, self.my_dwt.g, x, x_, W)\n",
    "            self.losses.append(loss)\n",
    "            if loss < min_loss:\n",
    "                min_loss = loss\n",
    "                best_h = self.my_dwt.h\n",
    "                best_g = self.my_dwt.g\n",
    "            \n",
    "            if verbose:\n",
    "                print('Epochs #' + str(i+1) + \": \" + str(loss) + \" loss\")\n",
    "            \n",
    "            if not good_error is None and loss <= good_error:\n",
    "                return\n",
    "            \n",
    "            hg, gg = compute_gradient(self.my_dwt.h, self.my_dwt.g, x, loss_function, diff)\n",
    "            self.my_dwt.update_weigths(hg, gg, learning_rate)\n",
    "        \n",
    "        self.my_dwt = dwt(1, best_h, best_g)\n",
    "        self.my_idwt = self.my_dwt.inverse()\n",
    "        print(\"Best Loss\", min_loss)\n",
    "    \n",
    "    def predict(self, x):\n",
    "        W = self.my_dwt.compute(x)\n",
    "        return self.my_idwt.compute(W)\n",
    "    \n",
    "        \n",
    "            "
   ]
  },
  {
   "cell_type": "code",
   "execution_count": 7,
   "id": "23bb9251",
   "metadata": {},
   "outputs": [],
   "source": [
    "model = Model(32)\n",
    "indexes = np.arange(64)\n",
    "x = np.sin(indexes)\n"
   ]
  },
  {
   "cell_type": "code",
   "execution_count": 13,
   "id": "f380a9f9",
   "metadata": {},
   "outputs": [
    {
     "name": "stdout",
     "output_type": "stream",
     "text": [
      "Epochs #1: 2.954972663896722 loss\n",
      "Epochs #2: 2.863418786533507 loss\n",
      "Epochs #3: 2.7905386509287 loss\n",
      "Epochs #4: 2.7335168858556114 loss\n",
      "Epochs #5: 2.674551245629937 loss\n",
      "Epochs #6: 2.6261192125577697 loss\n",
      "Epochs #7: 2.5803602017696265 loss\n",
      "Epochs #8: 2.534458989054773 loss\n",
      "Epochs #9: 2.501094315999913 loss\n",
      "Epochs #10: 2.47169496202388 loss\n",
      "Epochs #11: 2.434124053297781 loss\n",
      "Epochs #12: 2.40543214134164 loss\n",
      "Epochs #13: 2.3880433017947085 loss\n",
      "Epochs #14: 2.360312796278785 loss\n",
      "Epochs #15: 2.344987307081646 loss\n",
      "Epochs #16: 2.330758375803737 loss\n",
      "Epochs #17: 2.3188526082580214 loss\n",
      "Epochs #18: 2.2830305465473035 loss\n",
      "Epochs #19: 2.244451228283799 loss\n",
      "Epochs #20: 2.209333812602564 loss\n",
      "Epochs #21: 2.173447976675037 loss\n",
      "Epochs #22: 2.1314091844109644 loss\n",
      "Epochs #23: 2.09577511617199 loss\n",
      "Epochs #24: 2.063412508175494 loss\n",
      "Epochs #25: 2.0364059093558944 loss\n",
      "Epochs #26: 2.0147566481740844 loss\n",
      "Epochs #27: 1.9983138381453505 loss\n",
      "Epochs #28: 1.9879995614453811 loss\n",
      "Epochs #29: 1.9854336629944611 loss\n",
      "Epochs #30: 1.9898495526570983 loss\n",
      "Epochs #31: 2.0008107204011725 loss\n",
      "Epochs #32: 2.0171361749724315 loss\n",
      "Epochs #33: 2.0335441518016912 loss\n",
      "Epochs #34: 2.048940942412237 loss\n",
      "Epochs #35: 2.054221870235755 loss\n",
      "Epochs #36: 2.0455374379274387 loss\n",
      "Epochs #37: 2.0203543888171156 loss\n",
      "Epochs #38: 2.0047443517190064 loss\n",
      "Epochs #39: 2.0037795691721865 loss\n",
      "Epochs #40: 2.0140128113282665 loss\n",
      "Epochs #41: 2.034623289064567 loss\n",
      "Epochs #42: 2.0432503732538514 loss\n",
      "Epochs #43: 2.018870181704408 loss\n",
      "Epochs #44: 2.0022313712668316 loss\n",
      "Epochs #45: 2.0004357813048683 loss\n",
      "Epochs #46: 2.0093998107915834 loss\n",
      "Epochs #47: 2.0256812990497695 loss\n",
      "Epochs #48: 2.0288164212517366 loss\n",
      "Epochs #49: 2.006425497383912 loss\n",
      "Epochs #50: 1.9930331278646751 loss\n",
      "Best Loss 1.9854336629944611\n"
     ]
    }
   ],
   "source": [
    "model.fit(x,epochs = 50, learning_rate=0.0001)\n"
   ]
  },
  {
   "cell_type": "code",
   "execution_count": 292,
   "id": "e612cf3d",
   "metadata": {},
   "outputs": [
    {
     "name": "stdout",
     "output_type": "stream",
     "text": [
      "0.6591520714663541\n"
     ]
    },
    {
     "data": {
      "text/plain": [
       "[<matplotlib.lines.Line2D at 0x7fa7465290a0>]"
      ]
     },
     "execution_count": 292,
     "metadata": {},
     "output_type": "execute_result"
    },
    {
     "data": {
      "image/png": "[encoded data removed]",
      "text/plain": [
       "<Figure size 432x288 with 1 Axes>"
      ]
     },
     "metadata": {
      "needs_background": "light"
     },
     "output_type": "display_data"
    }
   ],
   "source": [
    "losses = np.array(model.losses)\n",
    "min_ = np.amin(losses)\n",
    "print(min_)\n",
    "plt.plot(np.arange(len(model.losses)), model.losses)"
   ]
  },
  {
   "cell_type": "code",
   "execution_count": 293,
   "id": "898c3e8f",
   "metadata": {},
   "outputs": [
    {
     "name": "stdout",
     "output_type": "stream",
     "text": [
      "0.6580128325258214\n"
     ]
    },
    {
     "data": {
      "text/plain": [
       "[<matplotlib.lines.Line2D at 0x7fa74647edc0>]"
      ]
     },
     "execution_count": 293,
     "metadata": {},
     "output_type": "execute_result"
    },
    {
     "data": {
      "image/png": "[encoded data removed]",
      "text/plain": [
       "<Figure size 432x288 with 1 Axes>"
      ]
     },
     "metadata": {
      "needs_background": "light"
     },
     "output_type": "display_data"
    }
   ],
   "source": [
    "ll = model.predict(x)\n",
    "print(mean_squared_error(ll,x))\n",
    "\n",
    "\n",
    "plt.plot(indexes, x, c = 'r')\n",
    "plt.plot(indexes, ll, c = 'b')"
   ]
  },
  {
   "cell_type": "code",
   "execution_count": 294,
   "id": "0d9e7170",
   "metadata": {},
   "outputs": [
    {
     "data": {
      "text/plain": [
       "[<matplotlib.lines.Line2D at 0x7fa74645afa0>]"
      ]
     },
     "execution_count": 294,
     "metadata": {},
     "output_type": "execute_result"
    },
    {
     "data": {
      "image/png": "[encoded data removed]",
      "text/plain": [
       "<Figure size 432x288 with 1 Axes>"
      ]
     },
     "metadata": {
      "needs_background": "light"
     },
     "output_type": "display_data"
    }
   ],
   "source": [
    "plt.plot(np.arange(len(model.my_dwt.g)), model.my_dwt.g)"
   ]
  },
  {
   "cell_type": "code",
   "execution_count": null,
   "id": "2f59afc1",
   "metadata": {},
   "outputs": [],
   "source": []
  }
 ],
 "metadata": {
  "kernelspec": {
   "display_name": "Python 3 (ipykernel)",
   "language": "python",
   "name": "python3"
  },
  "language_info": {
   "codemirror_mode": {
    "name": "ipython",
    "version": 3
   },
   "file_extension": ".py",
   "mimetype": "text/x-python",
   "name": "python",
   "nbconvert_exporter": "python",
   "pygments_lexer": "ipython3",
   "version": "3.9.12"
  }
 },
 "nbformat": 4,
 "nbformat_minor": 5
}
