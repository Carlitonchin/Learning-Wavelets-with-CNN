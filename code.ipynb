{
 "cells": [
  {
   "cell_type": "code",
   "execution_count": 1,
   "id": "91a0f9ed",
   "metadata": {},
   "outputs": [],
   "source": [
    "import pywt\n",
    "import numpy as np\n",
    "from sklearn.metrics import mean_squared_error\n",
    "import math\n",
    "import matplotlib.pyplot as plt"
   ]
  },
  {
   "cell_type": "code",
   "execution_count": 2,
   "id": "22d8fbf1",
   "metadata": {},
   "outputs": [],
   "source": [
    "class dwt:\n",
    "    def __init__(self, filter_size, h = None, g = None):\n",
    "        if h is None:\n",
    "            self.h = np.random.normal(1,2,filter_size)\n",
    "        else:\n",
    "            self.h = h\n",
    "        \n",
    "        if g is None:\n",
    "            self.g = np.random.normal(1,2,filter_size)\n",
    "        else:\n",
    "            self.g = g\n",
    "        \n",
    "    def compute(self, input_):\n",
    "        filter_bank = [self.h, self.g, np.flip(self.h), np.flip(self.g)]\n",
    "        my_wavelet = pywt.Wavelet(name=\"my_wavelet\", filter_bank=filter_bank)\n",
    "        return pywt.dwt(input_, wavelet=my_wavelet)\n",
    "    \n",
    "    def inverse(self):\n",
    "        return idwt(self)\n",
    "    \n",
    "    def update_weigths(self, hg, gg, lr = 0.001):\n",
    "        self.h = self.h - lr*hg\n",
    "        self.g = self.g - lr*gg"
   ]
  },
  {
   "cell_type": "code",
   "execution_count": 3,
   "id": "33bc6976",
   "metadata": {},
   "outputs": [],
   "source": [
    "class idwt:\n",
    "    def __init__(self, dwt):\n",
    "        self.h = dwt.h\n",
    "        self.g = dwt.g\n",
    "    \n",
    "    def compute(self, input_):\n",
    "        ca,cd = input_\n",
    "        filter_bank = [self.h, self.g, np.flip(self.h), np.flip(self.g)]\n",
    "        my_wavelet = pywt.Wavelet(name=\"my_wavelet\", filter_bank=filter_bank)\n",
    "        return pywt.idwt(ca,cd, wavelet=my_wavelet)"
   ]
  },
  {
   "cell_type": "code",
   "execution_count": 4,
   "id": "34c2d2dc",
   "metadata": {},
   "outputs": [],
   "source": [
    "def loss_function(h, g, x, x_, W):\n",
    "    l1 = 0.5\n",
    "    l2 = 0.5\n",
    "    s1 = mean_squared_error(x, x_)\n",
    "    s2 = np.sum(np.abs(W))\n",
    "    s3 = lhg(h,g)\n",
    "    return s1 + l1*s2 + l1*s3\n",
    "    \n",
    "def lhg(h, g):\n",
    "    s1 = (np.sum(h**2) - 1)**2\n",
    "    s2 = (np.sum(h) - math.sqrt(2))**2\n",
    "    s3 = np.sum(g)**2\n",
    "    return s1 + s2 + s3"
   ]
  },
  {
   "cell_type": "code",
   "execution_count": 5,
   "id": "70e22b9e",
   "metadata": {},
   "outputs": [],
   "source": [
    "def compute_gradient_h(h, g, x, loss_function, diff = 0.001):\n",
    "    length = len(h)\n",
    "    gradient = np.zeros(length)\n",
    "    mask = np.zeros(length)\n",
    "    for i in range(length):\n",
    "        mask[i] = diff\n",
    "        h_plus = h + mask\n",
    "        h_minus = h - mask\n",
    "        \n",
    "        dwtp = dwt(1, h_plus, g)\n",
    "        idwtp = dwtp.inverse()\n",
    "        \n",
    "        dwtm = dwt(1, h_minus, g)\n",
    "        idwtm = dwtm.inverse()\n",
    "        \n",
    "        Wp = dwtp.compute(x)\n",
    "        x_p = idwtp.compute(Wp)\n",
    "        \n",
    "        Wm = dwtm.compute(x)\n",
    "        x_m = idwtm.compute(Wm)\n",
    "        \n",
    "        lossp = loss_function(h_plus, g, x, x_p, Wp)\n",
    "        lossm = loss_function(h_minus, g, x, x_m, Wm)\n",
    "        gradient[i] = (lossp - lossm)/diff\n",
    "        \n",
    "    return gradient\n",
    "\n",
    "def compute_gradient_g(h, g, x, loss_function, diff = 0.001):\n",
    "    length = len(g)\n",
    "    gradient = np.zeros(length)\n",
    "    mask = np.zeros(length)\n",
    "    for i in range(length):\n",
    "        mask[i] = diff\n",
    "        g_plus = g + mask\n",
    "        g_minus = g - mask\n",
    "        \n",
    "        dwtp = dwt(1, h, g_plus)\n",
    "        idwtp = dwtp.inverse()\n",
    "        \n",
    "        dwtm = dwt(1, h, g_minus)\n",
    "        idwtm = dwtm.inverse()\n",
    "        \n",
    "        Wp = dwtp.compute(x)\n",
    "        x_p = idwtp.compute(Wp)\n",
    "        \n",
    "        Wm = dwtm.compute(x)\n",
    "        x_m = idwtm.compute(Wm)\n",
    "        \n",
    "        lossp = loss_function(h, g_plus, x, x_p, Wp)\n",
    "        lossm = loss_function(h, g_minus, x, x_m, Wm)\n",
    "        gradient[i] = (lossp - lossm)/diff\n",
    "        \n",
    "    return gradient\n",
    "\n",
    "def compute_gradient(h, g, x, loss_function, diff = 0.001):\n",
    "    hg = compute_gradient_h(h, g, x, loss_function, diff)\n",
    "    gg = compute_gradient_g(h, g, x, loss_function, diff)\n",
    "    return (hg, gg)\n",
    "    \n",
    "    \n",
    "    "
   ]
  },
  {
   "cell_type": "code",
   "execution_count": 15,
   "id": "57a17a80",
   "metadata": {},
   "outputs": [],
   "source": [
    "class Model:\n",
    "    def __init__(self,filter_size = 2**5):\n",
    "        self.my_dwt = dwt(filter_size)\n",
    "        self.my_idwt = self.my_dwt.inverse()\n",
    "        self.losses = []\n",
    "        self.min_loss = math.inf\n",
    "        \n",
    "    def fit(self, x, epochs = 100, learning_rate = 0.001, verbose = True, good_error = None, diff = 0.000001):\n",
    "        best_h = self.my_dwt.h\n",
    "        best_g = self.my_idwt.g\n",
    "        for i in range(epochs):\n",
    "            W = self.my_dwt.compute(x)\n",
    "            x_ = self.my_idwt.compute(W)\n",
    "            loss = mean_squared_error(x,x_)#loss_function(self.my_dwt.h, self.my_dwt.g, x, x_, W)\n",
    "            self.losses.append(loss)\n",
    "            if loss < self.min_loss:\n",
    "                self.min_loss = loss\n",
    "                best_h = self.my_dwt.h\n",
    "                best_g = self.my_dwt.g\n",
    "            \n",
    "            if verbose:\n",
    "                print('Epochs #' + str(i+1) + \": \" + str(loss) + \" loss\")\n",
    "            \n",
    "            if not good_error is None and loss <= good_error:\n",
    "                return\n",
    "            \n",
    "            hg, gg = compute_gradient(self.my_dwt.h, self.my_dwt.g, x, loss_function, diff)\n",
    "            self.my_dwt.update_weigths(hg, gg, learning_rate)\n",
    "        \n",
    "        self.my_dwt = dwt(1, best_h, best_g)\n",
    "        self.my_idwt = self.my_dwt.inverse()\n",
    "        print(\"Best Loss\", self.min_loss)\n",
    "    \n",
    "    def predict(self, x):\n",
    "        W = self.my_dwt.compute(x)\n",
    "        return self.my_idwt.compute(W)\n",
    "    \n",
    "        \n",
    "            "
   ]
  },
  {
   "cell_type": "code",
   "execution_count": 28,
   "id": "23bb9251",
   "metadata": {},
   "outputs": [
    {
     "name": "stdout",
     "output_type": "stream",
     "text": [
      "[ 0.          0.84147098  0.90929743  0.14112001 -0.7568025  -0.95892427\n",
      " -0.2794155   0.6569866   0.98935825  0.41211849]\n"
     ]
    }
   ],
   "source": [
    "model = Model(32)\n",
    "indexes = np.arange(64)\n",
    "x = np.sin(indexes)\n",
    "print(x[:10])"
   ]
  },
  {
   "cell_type": "code",
   "execution_count": 25,
   "id": "f380a9f9",
   "metadata": {},
   "outputs": [
    {
     "name": "stdout",
     "output_type": "stream",
     "text": [
      "Epochs #1: 11.721124992305299 loss\n",
      "Epochs #2: 11.757550446342627 loss\n",
      "Epochs #3: 12.367396392964114 loss\n",
      "Epochs #4: 13.920357931293678 loss\n",
      "Epochs #5: 22.796175431567832 loss\n",
      "Epochs #6: 61.86572684696762 loss\n",
      "Epochs #7: 191.52270594723052 loss\n",
      "Epochs #8: 691.7806320320669 loss\n",
      "Epochs #9: 2526.9824809439415 loss\n",
      "Epochs #10: 14795.836327753661 loss\n",
      "Epochs #11: 508428.36368021846 loss\n",
      "Epochs #12: 16372563577.12385 loss\n",
      "Epochs #13: 6.452597664288077e+23 loss\n",
      "Epochs #14: 2.3954760315496568e+64 loss\n",
      "Epochs #15: 2.3954760315496568e+64 loss\n",
      "Epochs #16: 2.3954760315496568e+64 loss\n",
      "Epochs #17: 2.3954760315496568e+64 loss\n",
      "Epochs #18: 2.3954760315496568e+64 loss\n",
      "Epochs #19: 2.3954760315496568e+64 loss\n",
      "Epochs #20: 2.3954760315496568e+64 loss\n",
      "Epochs #21: 2.3954760315496568e+64 loss\n",
      "Epochs #22: 2.3954760315496568e+64 loss\n",
      "Epochs #23: 2.3954760315496568e+64 loss\n",
      "Epochs #24: 2.3954760315496568e+64 loss\n",
      "Epochs #25: 2.3954760315496568e+64 loss\n",
      "Epochs #26: 2.3954760315496568e+64 loss\n",
      "Epochs #27: 2.3954760315496568e+64 loss\n",
      "Epochs #28: 2.3954760315496568e+64 loss\n",
      "Epochs #29: 2.3954760315496568e+64 loss\n",
      "Epochs #30: 2.3954760315496568e+64 loss\n",
      "Epochs #31: 2.3954760315496568e+64 loss\n",
      "Epochs #32: 2.3954760315496568e+64 loss\n",
      "Epochs #33: 2.3954760315496568e+64 loss\n",
      "Epochs #34: 2.3954760315496568e+64 loss\n",
      "Epochs #35: 2.3954760315496568e+64 loss\n",
      "Epochs #36: 2.3954760315496568e+64 loss\n",
      "Epochs #37: 2.3954760315496568e+64 loss\n",
      "Epochs #38: 2.3954760315496568e+64 loss\n",
      "Epochs #39: 2.3954760315496568e+64 loss\n",
      "Epochs #40: 2.3954760315496568e+64 loss\n",
      "Epochs #41: 2.3954760315496568e+64 loss\n",
      "Epochs #42: 2.3954760315496568e+64 loss\n",
      "Epochs #43: 2.3954760315496568e+64 loss\n",
      "Epochs #44: 2.3954760315496568e+64 loss\n",
      "Epochs #45: 2.3954760315496568e+64 loss\n",
      "Epochs #46: 2.3954760315496568e+64 loss\n",
      "Epochs #47: 2.3954760315496568e+64 loss\n",
      "Epochs #48: 2.3954760315496568e+64 loss\n",
      "Epochs #49: 2.3954760315496568e+64 loss\n",
      "Epochs #50: 2.3954760315496568e+64 loss\n",
      "Epochs #51: 2.3954760315496568e+64 loss\n",
      "Epochs #52: 2.3954760315496568e+64 loss\n",
      "Epochs #53: 2.3954760315496568e+64 loss\n",
      "Epochs #54: 2.3954760315496568e+64 loss\n",
      "Epochs #55: 2.3954760315496568e+64 loss\n",
      "Epochs #56: 2.3954760315496568e+64 loss\n",
      "Epochs #57: 2.3954760315496568e+64 loss\n",
      "Epochs #58: 2.3954760315496568e+64 loss\n",
      "Epochs #59: 2.3954760315496568e+64 loss\n",
      "Epochs #60: 2.3954760315496568e+64 loss\n",
      "Epochs #61: 2.3954760315496568e+64 loss\n",
      "Epochs #62: 2.3954760315496568e+64 loss\n",
      "Epochs #63: 2.3954760315496568e+64 loss\n",
      "Epochs #64: 2.3954760315496568e+64 loss\n",
      "Epochs #65: 2.3954760315496568e+64 loss\n",
      "Epochs #66: 2.3954760315496568e+64 loss\n",
      "Epochs #67: 2.3954760315496568e+64 loss\n",
      "Epochs #68: 2.3954760315496568e+64 loss\n",
      "Epochs #69: 2.3954760315496568e+64 loss\n",
      "Epochs #70: 2.3954760315496568e+64 loss\n",
      "Epochs #71: 2.3954760315496568e+64 loss\n",
      "Epochs #72: 2.3954760315496568e+64 loss\n",
      "Epochs #73: 2.3954760315496568e+64 loss\n",
      "Epochs #74: 2.3954760315496568e+64 loss\n",
      "Epochs #75: 2.3954760315496568e+64 loss\n",
      "Epochs #76: 2.3954760315496568e+64 loss\n",
      "Epochs #77: 2.3954760315496568e+64 loss\n",
      "Epochs #78: 2.3954760315496568e+64 loss\n",
      "Epochs #79: 2.3954760315496568e+64 loss\n",
      "Epochs #80: 2.3954760315496568e+64 loss\n",
      "Epochs #81: 2.3954760315496568e+64 loss\n",
      "Epochs #82: 2.3954760315496568e+64 loss\n",
      "Epochs #83: 2.3954760315496568e+64 loss\n",
      "Epochs #84: 2.3954760315496568e+64 loss\n",
      "Epochs #85: 2.3954760315496568e+64 loss\n",
      "Epochs #86: 2.3954760315496568e+64 loss\n",
      "Epochs #87: 2.3954760315496568e+64 loss\n",
      "Epochs #88: 2.3954760315496568e+64 loss\n",
      "Epochs #89: 2.3954760315496568e+64 loss\n",
      "Epochs #90: 2.3954760315496568e+64 loss\n",
      "Epochs #91: 2.3954760315496568e+64 loss\n",
      "Epochs #92: 2.3954760315496568e+64 loss\n",
      "Epochs #93: 2.3954760315496568e+64 loss\n",
      "Epochs #94: 2.3954760315496568e+64 loss\n",
      "Epochs #95: 2.3954760315496568e+64 loss\n",
      "Epochs #96: 2.3954760315496568e+64 loss\n",
      "Epochs #97: 2.3954760315496568e+64 loss\n",
      "Epochs #98: 2.3954760315496568e+64 loss\n",
      "Epochs #99: 2.3954760315496568e+64 loss\n",
      "Epochs #100: 2.3954760315496568e+64 loss\n",
      "Epochs #101: 2.3954760315496568e+64 loss\n",
      "Epochs #102: 2.3954760315496568e+64 loss\n",
      "Epochs #103: 2.3954760315496568e+64 loss\n",
      "Epochs #104: 2.3954760315496568e+64 loss\n",
      "Epochs #105: 2.3954760315496568e+64 loss\n",
      "Epochs #106: 2.3954760315496568e+64 loss\n",
      "Epochs #107: 2.3954760315496568e+64 loss\n",
      "Epochs #108: 2.3954760315496568e+64 loss\n",
      "Epochs #109: 2.3954760315496568e+64 loss\n",
      "Epochs #110: 2.3954760315496568e+64 loss\n",
      "Epochs #111: 2.3954760315496568e+64 loss\n",
      "Epochs #112: 2.3954760315496568e+64 loss\n",
      "Epochs #113: 2.3954760315496568e+64 loss\n",
      "Epochs #114: 2.3954760315496568e+64 loss\n",
      "Epochs #115: 2.3954760315496568e+64 loss\n",
      "Epochs #116: 2.3954760315496568e+64 loss\n",
      "Epochs #117: 2.3954760315496568e+64 loss\n",
      "Epochs #118: 2.3954760315496568e+64 loss\n",
      "Epochs #119: 2.3954760315496568e+64 loss\n",
      "Epochs #120: 2.3954760315496568e+64 loss\n",
      "Epochs #121: 2.3954760315496568e+64 loss\n",
      "Epochs #122: 2.3954760315496568e+64 loss\n",
      "Epochs #123: 2.3954760315496568e+64 loss\n",
      "Epochs #124: 2.3954760315496568e+64 loss\n",
      "Epochs #125: 2.3954760315496568e+64 loss\n",
      "Epochs #126: 2.3954760315496568e+64 loss\n",
      "Epochs #127: 2.3954760315496568e+64 loss\n",
      "Epochs #128: 2.3954760315496568e+64 loss\n",
      "Epochs #129: 2.3954760315496568e+64 loss\n",
      "Epochs #130: 2.3954760315496568e+64 loss\n",
      "Epochs #131: 2.3954760315496568e+64 loss\n",
      "Epochs #132: 2.3954760315496568e+64 loss\n",
      "Epochs #133: 2.3954760315496568e+64 loss\n",
      "Epochs #134: 2.3954760315496568e+64 loss\n",
      "Epochs #135: 2.3954760315496568e+64 loss\n",
      "Epochs #136: 2.3954760315496568e+64 loss\n",
      "Epochs #137: 2.3954760315496568e+64 loss\n",
      "Epochs #138: 2.3954760315496568e+64 loss\n",
      "Epochs #139: 2.3954760315496568e+64 loss\n",
      "Epochs #140: 2.3954760315496568e+64 loss\n",
      "Epochs #141: 2.3954760315496568e+64 loss\n",
      "Epochs #142: 2.3954760315496568e+64 loss\n",
      "Epochs #143: 2.3954760315496568e+64 loss\n",
      "Epochs #144: 2.3954760315496568e+64 loss\n",
      "Epochs #145: 2.3954760315496568e+64 loss\n",
      "Epochs #146: 2.3954760315496568e+64 loss\n",
      "Epochs #147: 2.3954760315496568e+64 loss\n",
      "Epochs #148: 2.3954760315496568e+64 loss\n",
      "Epochs #149: 2.3954760315496568e+64 loss\n",
      "Epochs #150: 2.3954760315496568e+64 loss\n",
      "Epochs #151: 2.3954760315496568e+64 loss\n",
      "Epochs #152: 2.3954760315496568e+64 loss\n",
      "Epochs #153: 2.3954760315496568e+64 loss\n",
      "Epochs #154: 2.3954760315496568e+64 loss\n",
      "Epochs #155: 2.3954760315496568e+64 loss\n",
      "Epochs #156: 2.3954760315496568e+64 loss\n",
      "Epochs #157: 2.3954760315496568e+64 loss\n",
      "Epochs #158: 2.3954760315496568e+64 loss\n",
      "Epochs #159: 2.3954760315496568e+64 loss\n",
      "Epochs #160: 2.3954760315496568e+64 loss\n",
      "Epochs #161: 2.3954760315496568e+64 loss\n",
      "Epochs #162: 2.3954760315496568e+64 loss\n",
      "Epochs #163: 2.3954760315496568e+64 loss\n",
      "Epochs #164: 2.3954760315496568e+64 loss\n",
      "Epochs #165: 2.3954760315496568e+64 loss\n",
      "Epochs #166: 2.3954760315496568e+64 loss\n",
      "Epochs #167: 2.3954760315496568e+64 loss\n",
      "Epochs #168: 2.3954760315496568e+64 loss\n",
      "Epochs #169: 2.3954760315496568e+64 loss\n",
      "Epochs #170: 2.3954760315496568e+64 loss\n",
      "Epochs #171: 2.3954760315496568e+64 loss\n",
      "Epochs #172: 2.3954760315496568e+64 loss\n",
      "Epochs #173: 2.3954760315496568e+64 loss\n",
      "Epochs #174: 2.3954760315496568e+64 loss\n",
      "Epochs #175: 2.3954760315496568e+64 loss\n",
      "Epochs #176: 2.3954760315496568e+64 loss\n",
      "Epochs #177: 2.3954760315496568e+64 loss\n",
      "Epochs #178: 2.3954760315496568e+64 loss\n",
      "Epochs #179: 2.3954760315496568e+64 loss\n",
      "Epochs #180: 2.3954760315496568e+64 loss\n",
      "Epochs #181: 2.3954760315496568e+64 loss\n",
      "Epochs #182: 2.3954760315496568e+64 loss\n",
      "Epochs #183: 2.3954760315496568e+64 loss\n",
      "Epochs #184: 2.3954760315496568e+64 loss\n",
      "Epochs #185: 2.3954760315496568e+64 loss\n",
      "Epochs #186: 2.3954760315496568e+64 loss\n",
      "Epochs #187: 2.3954760315496568e+64 loss\n",
      "Epochs #188: 2.3954760315496568e+64 loss\n",
      "Epochs #189: 2.3954760315496568e+64 loss\n",
      "Epochs #190: 2.3954760315496568e+64 loss\n",
      "Epochs #191: 2.3954760315496568e+64 loss\n",
      "Epochs #192: 2.3954760315496568e+64 loss\n",
      "Epochs #193: 2.3954760315496568e+64 loss\n",
      "Epochs #194: 2.3954760315496568e+64 loss\n",
      "Epochs #195: 2.3954760315496568e+64 loss\n",
      "Epochs #196: 2.3954760315496568e+64 loss\n",
      "Epochs #197: 2.3954760315496568e+64 loss\n",
      "Epochs #198: 2.3954760315496568e+64 loss\n",
      "Epochs #199: 2.3954760315496568e+64 loss\n",
      "Epochs #200: 2.3954760315496568e+64 loss\n",
      "Best Loss 2.3954760315496568e+64\n"
     ]
    }
   ],
   "source": [
    "model.fit(x,epochs = 200, learning_rate=0.001)\n"
   ]
  },
  {
   "cell_type": "code",
   "execution_count": 26,
   "id": "e612cf3d",
   "metadata": {},
   "outputs": [
    {
     "name": "stdout",
     "output_type": "stream",
     "text": [
      "11.721124992305299\n"
     ]
    },
    {
     "data": {
      "text/plain": [
       "[<matplotlib.lines.Line2D at 0x7fe1fe94d6a0>]"
      ]
     },
     "execution_count": 26,
     "metadata": {},
     "output_type": "execute_result"
    },
    {
     "data": {
      "image/png": "[encoded data removed]",
      "text/plain": [
       "<Figure size 432x288 with 1 Axes>"
      ]
     },
     "metadata": {
      "needs_background": "light"
     },
     "output_type": "display_data"
    }
   ],
   "source": [
    "losses = np.array(model.losses)\n",
    "min_ = np.amin(losses)\n",
    "print(min_)\n",
    "plt.plot(np.arange(len(model.losses)), model.losses)"
   ]
  },
  {
   "cell_type": "code",
   "execution_count": 29,
   "id": "898c3e8f",
   "metadata": {},
   "outputs": [
    {
     "name": "stdout",
     "output_type": "stream",
     "text": [
      "[ 0.          0.84147098  0.90929743  0.14112001 -0.7568025  -0.95892427\n",
      " -0.2794155   0.6569866   0.98935825  0.41211849]\n",
      "19112.402437413402\n",
      "[ 0.          0.84147098  0.90929743  0.14112001 -0.7568025  -0.95892427\n",
      " -0.2794155   0.6569866   0.98935825  0.41211849]\n"
     ]
    },
    {
     "data": {
      "image/png": "[encoded data removed]",
      "text/plain": [
       "<Figure size 432x288 with 1 Axes>"
      ]
     },
     "metadata": {
      "needs_background": "light"
     },
     "output_type": "display_data"
    }
   ],
   "source": [
    "print(x[:10])\n",
    "ll = model.predict(x)\n",
    "print(mean_squared_error(ll,x))\n",
    "\n",
    "\n",
    "plt.plot(indexes, x, c = 'r', label='orginal')\n",
    "plt.plot(indexes, ll, c = 'b', label='aprendida')\n",
    "print(x[:10])"
   ]
  },
  {
   "cell_type": "code",
   "execution_count": 294,
   "id": "0d9e7170",
   "metadata": {},
   "outputs": [
    {
     "data": {
      "text/plain": [
       "[<matplotlib.lines.Line2D at 0x7fa74645afa0>]"
      ]
     },
     "execution_count": 294,
     "metadata": {},
     "output_type": "execute_result"
    },
    {
     "data": {
      "image/png": "[encoded data removed]",
      "text/plain": [
       "<Figure size 432x288 with 1 Axes>"
      ]
     },
     "metadata": {
      "needs_background": "light"
     },
     "output_type": "display_data"
    }
   ],
   "source": [
    "plt.plot(np.arange(len(model.my_dwt.g)), model.my_dwt.g)"
   ]
  },
  {
   "cell_type": "code",
   "execution_count": null,
   "id": "2f59afc1",
   "metadata": {},
   "outputs": [],
   "source": []
  }
 ],
 "metadata": {
  "kernelspec": {
   "display_name": "Python 3 (ipykernel)",
   "language": "python",
   "name": "python3"
  },
  "language_info": {
   "codemirror_mode": {
    "name": "ipython",
    "version": 3
   },
   "file_extension": ".py",
   "mimetype": "text/x-python",
   "name": "python",
   "nbconvert_exporter": "python",
   "pygments_lexer": "ipython3",
   "version": "3.9.12"
  }
 },
 "nbformat": 4,
 "nbformat_minor": 5
}
