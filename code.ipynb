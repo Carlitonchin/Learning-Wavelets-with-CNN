{
 "cells": [
  {
   "cell_type": "code",
   "execution_count": 37,
   "id": "91a0f9ed",
   "metadata": {},
   "outputs": [],
   "source": [
    "import pywt\n",
    "import numpy as np\n",
    "from sklearn.metrics import mean_squared_error\n",
    "import math\n",
    "import matplotlib.pyplot as plt"
   ]
  },
  {
   "cell_type": "code",
   "execution_count": 38,
   "id": "22d8fbf1",
   "metadata": {},
   "outputs": [],
   "source": [
    "class dwt:\n",
    "    def __init__(self, filter_size, h = None, g = None):\n",
    "        if h is None:\n",
    "            self.h = np.random.normal(1,2,filter_size)\n",
    "        else:\n",
    "            self.h = h\n",
    "        \n",
    "        if g is None:\n",
    "            self.g = np.random.normal(1,2,filter_size)\n",
    "        else:\n",
    "            self.g = g\n",
    "        \n",
    "    def compute(self, input_):\n",
    "        filter_bank = [self.h, self.g, np.flip(self.h), np.flip(self.g)]\n",
    "        my_wavelet = pywt.Wavelet(name=\"my_wavelet\", filter_bank=filter_bank)\n",
    "        return pywt.dwt(input_, wavelet=my_wavelet)\n",
    "    \n",
    "    def inverse(self):\n",
    "        return idwt(self)\n",
    "    \n",
    "    def update_weigths(self, hg, gg, lr = 0.001):\n",
    "        self.h = self.h - lr*hg\n",
    "        self.g = self.g - lr*gg"
   ]
  },
  {
   "cell_type": "code",
   "execution_count": 39,
   "id": "33bc6976",
   "metadata": {},
   "outputs": [],
   "source": [
    "class idwt:\n",
    "    def __init__(self, dwt):\n",
    "        self.h = dwt.h\n",
    "        self.g = dwt.g\n",
    "    \n",
    "    def compute(self, input_):\n",
    "        ca,cd = input_\n",
    "        filter_bank = [self.h, self.g, np.flip(self.h), np.flip(self.g)]\n",
    "        my_wavelet = pywt.Wavelet(name=\"my_wavelet\", filter_bank=filter_bank)\n",
    "        return pywt.idwt(ca,cd, wavelet=my_wavelet)"
   ]
  },
  {
   "cell_type": "code",
   "execution_count": 40,
   "id": "34c2d2dc",
   "metadata": {},
   "outputs": [],
   "source": [
    "def loss_function(h, g, x, x_, W):\n",
    "    l1 = 0.5\n",
    "    l2 = 0.5\n",
    "    s1 = mean_squared_error(x, x_)\n",
    "    s2 = np.sum(np.abs(W))\n",
    "    s3 = lhg(h,g)\n",
    "    return s1 + l1*s2 + l1*s3\n",
    "    \n",
    "def lhg(h, g):\n",
    "    s1 = (np.sum(h**2) - 1)**2\n",
    "    s2 = (np.sum(h) - math.sqrt(2))**2\n",
    "    s3 = np.sum(g)**2\n",
    "    return s1 + s2 + s3"
   ]
  },
  {
   "cell_type": "code",
   "execution_count": 41,
   "id": "70e22b9e",
   "metadata": {},
   "outputs": [],
   "source": [
    "def compute_gradient_h(h, g, x, loss_function, diff = 0.001):\n",
    "    length = len(h)\n",
    "    gradient = np.zeros(length)\n",
    "    mask = np.zeros(length)\n",
    "    for i in range(length):\n",
    "        mask[i] = diff\n",
    "        h_plus = h + mask\n",
    "        h_minus = h - mask\n",
    "        \n",
    "        dwtp = dwt(1, h_plus, g)\n",
    "        idwtp = dwtp.inverse()\n",
    "        \n",
    "        dwtm = dwt(1, h_minus, g)\n",
    "        idwtm = dwtm.inverse()\n",
    "        \n",
    "        Wp = dwtp.compute(x)\n",
    "        x_p = idwtp.compute(Wp)\n",
    "        \n",
    "        Wm = dwtm.compute(x)\n",
    "        x_m = idwtm.compute(Wm)\n",
    "        \n",
    "        lossp = loss_function(h_plus, g, x, x_p, Wp)\n",
    "        lossm = loss_function(h_minus, g, x, x_m, Wm)\n",
    "        gradient[i] = (lossp - lossm)/diff\n",
    "        \n",
    "    return gradient\n",
    "\n",
    "def compute_gradient_g(h, g, x, loss_function, diff = 0.001):\n",
    "    length = len(g)\n",
    "    gradient = np.zeros(length)\n",
    "    mask = np.zeros(length)\n",
    "    for i in range(length):\n",
    "        mask[i] = diff\n",
    "        g_plus = g + mask\n",
    "        g_minus = g - mask\n",
    "        \n",
    "        dwtp = dwt(1, h, g_plus)\n",
    "        idwtp = dwtp.inverse()\n",
    "        \n",
    "        dwtm = dwt(1, h, g_minus)\n",
    "        idwtm = dwtm.inverse()\n",
    "        \n",
    "        Wp = dwtp.compute(x)\n",
    "        x_p = idwtp.compute(Wp)\n",
    "        \n",
    "        Wm = dwtm.compute(x)\n",
    "        x_m = idwtm.compute(Wm)\n",
    "        \n",
    "        lossp = loss_function(h, g_plus, x, x_p, Wp)\n",
    "        lossm = loss_function(h, g_minus, x, x_m, Wm)\n",
    "        gradient[i] = (lossp - lossm)/diff\n",
    "        \n",
    "    return gradient\n",
    "\n",
    "def compute_gradient(h, g, x, loss_function, diff = 0.001):\n",
    "    hg = compute_gradient_h(h, g, x, loss_function, diff)\n",
    "    gg = compute_gradient_g(h, g, x, loss_function, diff)\n",
    "    return (hg, gg)\n",
    "    \n",
    "    \n",
    "    "
   ]
  },
  {
   "cell_type": "code",
   "execution_count": 42,
   "id": "57a17a80",
   "metadata": {},
   "outputs": [],
   "source": [
    "class Model:\n",
    "    def __init__(self,filter_size = 2**5):\n",
    "        self.my_dwt = dwt(filter_size)\n",
    "        self.my_idwt = self.my_dwt.inverse()\n",
    "        self.losses = []\n",
    "        self.min_loss = math.inf\n",
    "        \n",
    "    def fit(self, x, epochs = 100, learning_rate = 0.001, verbose = True, good_error = None, diff = 0.000001):\n",
    "        best_h = self.my_dwt.h\n",
    "        best_g = self.my_idwt.g\n",
    "        for i in range(epochs):\n",
    "            W = self.my_dwt.compute(x)\n",
    "            x_ = self.my_idwt.compute(W)\n",
    "            loss = mean_squared_error(x,x_)#loss_function(self.my_dwt.h, self.my_dwt.g, x, x_, W)\n",
    "            self.losses.append(loss)\n",
    "            if loss < self.min_loss:\n",
    "                self.min_loss = loss\n",
    "                best_h = self.my_dwt.h\n",
    "                best_g = self.my_dwt.g\n",
    "            \n",
    "            if verbose:\n",
    "                print('Epochs #' + str(i+1) + \": \" + str(loss) + \" loss\")\n",
    "            \n",
    "            if not good_error is None and loss <= good_error:\n",
    "                return\n",
    "            \n",
    "            hg, gg = compute_gradient(self.my_dwt.h, self.my_dwt.g, x, loss_function, diff)\n",
    "            self.my_dwt.update_weigths(hg, gg, learning_rate)\n",
    "        \n",
    "        self.my_dwt = dwt(1, best_h, best_g)\n",
    "        self.my_idwt = self.my_dwt.inverse()\n",
    "        print(\"Best Loss\", self.min_loss)\n",
    "    \n",
    "    def predict(self, x):\n",
    "        W = self.my_dwt.compute(x)\n",
    "        return self.my_idwt.compute(W)\n",
    "    \n",
    "    def wavelet(self):\n",
    "        filter_bank = [self.my_dwt.h, self.my_dwt.g, np.flip(self.my_dwt.h), np.flip(self.my_dwt.g)]\n",
    "        my_wavelet = pywt.Wavelet(name=\"my_wavelet\", filter_bank=filter_bank)\n",
    "        return my_wavelet\n",
    "    \n",
    "        \n",
    "            "
   ]
  },
  {
   "cell_type": "code",
   "execution_count": 43,
   "id": "23bb9251",
   "metadata": {},
   "outputs": [],
   "source": [
    "model = Model(32)\n",
    "indexes = np.arange(64)\n",
    "x = np.sin(indexes)"
   ]
  },
  {
   "cell_type": "code",
   "execution_count": null,
   "id": "f380a9f9",
   "metadata": {},
   "outputs": [
    {
     "name": "stdout",
     "output_type": "stream",
     "text": [
      "Epochs #1: 2.4878885623144296 loss\n",
      "Epochs #2: 2.491433361212818 loss\n",
      "Epochs #3: 2.497940644680375 loss\n",
      "Epochs #4: 2.502551927831956 loss\n",
      "Epochs #5: 2.4971938476940556 loss\n",
      "Epochs #6: 2.486151366560724 loss\n",
      "Epochs #7: 2.4787055986386344 loss\n",
      "Epochs #8: 2.475645175939876 loss\n",
      "Epochs #9: 2.4805342995846336 loss\n",
      "Epochs #10: 2.490090877470805 loss\n",
      "Epochs #11: 2.4857020258264924 loss\n",
      "Epochs #12: 2.4754230882688897 loss\n",
      "Epochs #13: 2.4648057077910805 loss\n",
      "Epochs #14: 2.4585487040861205 loss\n",
      "Epochs #15: 2.4591118719182687 loss\n",
      "Epochs #16: 2.469108557330612 loss\n",
      "Epochs #17: 2.4740361223672362 loss\n",
      "Epochs #18: 2.464413408320816 loss\n",
      "Epochs #19: 2.4519764238471735 loss\n",
      "Epochs #20: 2.444685237903613 loss\n",
      "Epochs #21: 2.4474152214942206 loss\n",
      "Epochs #22: 2.4578312902259247 loss\n",
      "Epochs #23: 2.460164868202132 loss\n",
      "Epochs #24: 2.4504389111868123 loss\n",
      "Epochs #25: 2.436163912588542 loss\n",
      "Epochs #26: 2.429776560128034 loss\n",
      "Epochs #27: 2.4342168612917026 loss\n",
      "Epochs #28: 2.444815541301841 loss\n"
     ]
    }
   ],
   "source": [
    "model.fit(x,epochs = 100, learning_rate=0.0001)\n"
   ]
  },
  {
   "cell_type": "code",
   "execution_count": 34,
   "id": "e612cf3d",
   "metadata": {},
   "outputs": [
    {
     "name": "stdout",
     "output_type": "stream",
     "text": [
      "131.7110291902083\n"
     ]
    },
    {
     "data": {
      "text/plain": [
       "[<matplotlib.lines.Line2D at 0x7fe1fe35f400>]"
      ]
     },
     "execution_count": 34,
     "metadata": {},
     "output_type": "execute_result"
    },
    {
     "data": {
      "image/png": "[encoded data removed]",
      "text/plain": [
       "<Figure size 432x288 with 1 Axes>"
      ]
     },
     "metadata": {
      "needs_background": "light"
     },
     "output_type": "display_data"
    }
   ],
   "source": [
    "losses = np.array(model.losses)\n",
    "min_ = np.amin(losses)\n",
    "print(min_)\n",
    "plt.plot(np.arange(len(model.losses)), model.losses)"
   ]
  },
  {
   "cell_type": "code",
   "execution_count": 35,
   "id": "898c3e8f",
   "metadata": {},
   "outputs": [
    {
     "name": "stdout",
     "output_type": "stream",
     "text": [
      "[ 0.          0.84147098  0.90929743  0.14112001 -0.7568025  -0.95892427\n",
      " -0.2794155   0.6569866   0.98935825  0.41211849]\n",
      "39.516858126641296\n",
      "[ 0.          0.84147098  0.90929743  0.14112001 -0.7568025  -0.95892427\n",
      " -0.2794155   0.6569866   0.98935825  0.41211849]\n"
     ]
    },
    {
     "data": {
      "image/png": "[encoded data removed]",
      "text/plain": [
       "<Figure size 432x288 with 1 Axes>"
      ]
     },
     "metadata": {
      "needs_background": "light"
     },
     "output_type": "display_data"
    }
   ],
   "source": [
    "print(x[:10])\n",
    "ll = model.predict(x)\n",
    "print(mean_squared_error(ll,x))\n",
    "\n",
    "\n",
    "plt.plot(indexes, x, c = 'r', label='orginal')\n",
    "plt.plot(indexes, ll, c = 'b', label='modelo')\n",
    "plt.legend()\n",
    "print(x[:10])"
   ]
  },
  {
   "cell_type": "code",
   "execution_count": 36,
   "id": "0d9e7170",
   "metadata": {},
   "outputs": [
    {
     "ename": "AttributeError",
     "evalue": "'Model' object has no attribute 'wavelet'",
     "output_type": "error",
     "traceback": [
      "\u001b[0;31m---------------------------------------------------------------------------\u001b[0m",
      "\u001b[0;31mAttributeError\u001b[0m                            Traceback (most recent call last)",
      "Input \u001b[0;32mIn [36]\u001b[0m, in \u001b[0;36m<cell line: 1>\u001b[0;34m()\u001b[0m\n\u001b[0;32m----> 1\u001b[0m [phi_d,psi_d,phi_r,psi_r,a] \u001b[38;5;241m=\u001b[39m \u001b[43mmodel\u001b[49m\u001b[38;5;241;43m.\u001b[39;49m\u001b[43mwavelet\u001b[49m()\u001b[38;5;241m.\u001b[39mwavefun(level\u001b[38;5;241m=\u001b[39m\u001b[38;5;241m1\u001b[39m)\n\u001b[1;32m      2\u001b[0m plt\u001b[38;5;241m.\u001b[39mplot(a,psi_d)\n",
      "\u001b[0;31mAttributeError\u001b[0m: 'Model' object has no attribute 'wavelet'"
     ]
    }
   ],
   "source": [
    "[phi_d,psi_d,phi_r,psi_r,a] = model.wavelet().wavefun(level=1)\n",
    "plt.plot(a,psi_d)"
   ]
  },
  {
   "cell_type": "code",
   "execution_count": null,
   "id": "2f59afc1",
   "metadata": {},
   "outputs": [],
   "source": []
  }
 ],
 "metadata": {
  "kernelspec": {
   "display_name": "Python 3 (ipykernel)",
   "language": "python",
   "name": "python3"
  },
  "language_info": {
   "codemirror_mode": {
    "name": "ipython",
    "version": 3
   },
   "file_extension": ".py",
   "mimetype": "text/x-python",
   "name": "python",
   "nbconvert_exporter": "python",
   "pygments_lexer": "ipython3",
   "version": "3.9.12"
  }
 },
 "nbformat": 4,
 "nbformat_minor": 5
}
